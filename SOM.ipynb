{
 "cells": [
  {
   "cell_type": "markdown",
   "metadata": {},
   "source": [
    "# FITRI EKA C / 1301164537"
   ]
  },
  {
   "cell_type": "code",
   "execution_count": 1,
   "metadata": {},
   "outputs": [],
   "source": [
    "import csv\n",
    "import pandas as pd\n",
    "import numpy as np\n",
    "import random\n",
    "import math\n",
    "import matplotlib.pyplot as plt"
   ]
  },
  {
   "cell_type": "code",
   "execution_count": 2,
   "metadata": {},
   "outputs": [],
   "source": [
    "def ReadData ():\n",
    "    with open ('Dataset.csv') as csv_file : \n",
    "        kolom = csv.reader(csv_file, delimiter= ',')\n",
    "        next(kolom)\n",
    "        Datatest = []\n",
    "        for row in kolom :\n",
    "            Datatest.append([float(row[0]),float(row[1]) ])\n",
    "        return np.array(Datatest)"
   ]
  },
  {
   "cell_type": "code",
   "execution_count": 3,
   "metadata": {},
   "outputs": [],
   "source": [
    "Data = ReadData()"
   ]
  },
  {
   "cell_type": "code",
   "execution_count": 4,
   "metadata": {},
   "outputs": [
    {
     "data": {
      "text/plain": [
       "array([[10.35 ,  9.768],\n",
       "       [10.098,  9.988],\n",
       "       [ 9.73 ,  9.91 ],\n",
       "       ...,\n",
       "       [13.636,  5.218],\n",
       "       [14.41 ,  4.656],\n",
       "       [14.02 ,  5.614]])"
      ]
     },
     "execution_count": 4,
     "metadata": {},
     "output_type": "execute_result"
    }
   ],
   "source": [
    "Data"
   ]
  },
  {
   "cell_type": "code",
   "execution_count": 5,
   "metadata": {},
   "outputs": [
    {
     "data": {
      "image/png": "[encoded data removed]",
      "text/plain": [
       "<Figure size 432x288 with 1 Axes>"
      ]
     },
     "metadata": {},
     "output_type": "display_data"
    }
   ],
   "source": [
    "#plot data rentang 0 - 2\n",
    "with open('Dataset.csv', 'r') as f:\n",
    "    reader = csv.reader(f)\n",
    "    dataTrain = [[float(r[0])/10, float(r[1])/10, -1] for r in reader]\n",
    "point = plt.plot([x[0] for x in dataTrain], [x[1] for x in dataTrain], 'b.')\n",
    "plt.setp(point, markersize=1)\n",
    "plt.xlabel(\"X Coordinates\")\n",
    "plt.ylabel(\"Y Coordinates\")\n",
    "# plt.axis([0, 20, 0, 20])\n",
    "plt.grid()"
   ]
  },
  {
   "cell_type": "code",
   "execution_count": 6,
   "metadata": {},
   "outputs": [
    {
     "data": {
      "image/png": "[encoded data removed]",
      "text/plain": [
       "<Figure size 432x288 with 1 Axes>"
      ]
     },
     "metadata": {},
     "output_type": "display_data"
    }
   ],
   "source": [
    "#plot data asli\n",
    "with open('Dataset.csv', 'r') as f:\n",
    "    reader = csv.reader(f)\n",
    "    dataTrain = [[float(r[0]), float(r[1]), -1] for r in reader]\n",
    "point = plt.plot([x[0] for x in dataTrain], [x[1] for x in dataTrain], 'mx')\n",
    "plt.setp(point, markersize=1)\n",
    "plt.xlabel(\"X Coordinates\")\n",
    "plt.ylabel(\"Y Coordinates\")\n",
    "# plt.axis([0, 20, 0, 20])\n",
    "plt.grid()"
   ]
  },
  {
   "cell_type": "code",
   "execution_count": 7,
   "metadata": {},
   "outputs": [],
   "source": [
    "#update nilai learning rate\n",
    "def UpdateLearning (ln,i) :\n",
    "    Tn = 2\n",
    "    hasil = ln * math.exp (- i / Tn)\n",
    "    return hasil"
   ]
  },
  {
   "cell_type": "code",
   "execution_count": 8,
   "metadata": {},
   "outputs": [],
   "source": [
    "#update nilai radius \n",
    "def Update_radius (rd , i) :\n",
    "    Tr = 2\n",
    "    hasil = rd * math.exp (- i / Tr)\n",
    "    return hasil"
   ]
  },
  {
   "cell_type": "code",
   "execution_count": 9,
   "metadata": {},
   "outputs": [],
   "source": [
    "#rumus eucledian\n",
    "def Rumus_Eus(a, b):\n",
    "    hasil = math.sqrt(np.sum((a - b)**2)) \n",
    "    return hasil"
   ]
  },
  {
   "cell_type": "code",
   "execution_count": 10,
   "metadata": {},
   "outputs": [],
   "source": [
    "def hitung_kiri (x,y,z):\n",
    "    hasil = 1 - (x*y/z)\n",
    "    return hasil"
   ]
  },
  {
   "cell_type": "code",
   "execution_count": 11,
   "metadata": {},
   "outputs": [],
   "source": [
    "def nilai_range (x,y): \n",
    "    hasil = np.round(x * y)\n",
    "    return hasil"
   ]
  },
  {
   "cell_type": "code",
   "execution_count": 12,
   "metadata": {},
   "outputs": [],
   "source": [
    "kolom = 4\n",
    "baris = 3\n",
    "dim = 2\n",
    "w1 = []\n",
    "w2 =[]\n",
    "kotak = kolom + baris\n",
    "w1 = [np.random.uniform(0,1) for p in range(0,12)]\n",
    "w2 = [np.random.uniform(0,1) for p in range(0,12)]\n",
    "random_gabungan = (list(zip(w1,w2)))"
   ]
  },
  {
   "cell_type": "code",
   "execution_count": 13,
   "metadata": {},
   "outputs": [
    {
     "name": "stdout",
     "output_type": "stream",
     "text": [
      "[[0.2129239  0.75559136]\n",
      " [0.31551898 0.73179794]\n",
      " [0.02464566 0.21969205]\n",
      " [0.355098   0.54491487]\n",
      " [0.6167305  0.42554011]\n",
      " [0.25473867 0.90362586]\n",
      " [0.38147285 0.02871025]\n",
      " [0.73061571 0.15141554]\n",
      " [0.57558013 0.54859928]\n",
      " [0.37193848 0.96682125]\n",
      " [0.02004475 0.97358783]\n",
      " [0.18591517 0.68126587]]\n"
     ]
    }
   ],
   "source": [
    "jadi_satu = np.array(random_gabungan)\n",
    "#jadi_satu = jadi_satu.append([float(w1[0]),float(w2[1]) ])\n",
    "print(jadi_satu)"
   ]
  },
  {
   "cell_type": "code",
   "execution_count": 14,
   "metadata": {
    "scrolled": true
   },
   "outputs": [
    {
     "name": "stdout",
     "output_type": "stream",
     "text": [
      "[[[0.25094868 0.8160259 ]\n",
      "  [0.92456606 0.51380775]\n",
      "  [0.88279651 0.93364713]]\n",
      "\n",
      " [[0.62178925 0.9456187 ]\n",
      "  [0.53568068 0.48161399]\n",
      "  [0.28926071 0.90086876]]\n",
      "\n",
      " [[0.67208156 0.39819983]\n",
      "  [0.8361255  0.62989973]\n",
      "  [0.2615247  0.5150464 ]]\n",
      "\n",
      " [[0.48191529 0.11595605]\n",
      "  [0.0457438  0.76371402]\n",
      "  [0.18553991 0.50231451]]]\n"
     ]
    }
   ],
   "source": [
    "random_n = np.random.uniform(0, 1, (kolom, baris, 2))\n",
    "print(random_n)"
   ]
  },
  {
   "cell_type": "code",
   "execution_count": 15,
   "metadata": {},
   "outputs": [],
   "source": [
    "#hitung nilai SOM\n",
    "ln = 0.1\n",
    "rd = 2\n",
    "ak = 1.0 \n",
    "k = []\n",
    "iterasi = 20\n",
    "for m in range(iterasi):\n",
    "    jarak_kiri = hitung_kiri(m,ak,iterasi)\n",
    "    rentang = nilai_range(jarak_kiri,kotak)\n",
    "    learningrate = UpdateLearning (ln,m)\n",
    "    radius = Update_radius (rd, m)\n",
    "    #nilai_bmu= Best_Neoron(Data, random_n)\n",
    "    ##print(nilai_bmu)\n",
    "    for z in Data : \n",
    "        nilai_bmu = np.array([0, 0])\n",
    "        jarak_min = Rumus_Eus(random_n[0][0], z)\n",
    "        for x in range(kolom):\n",
    "            for y in range(baris):\n",
    "                jarak = Rumus_Eus(random_n[x][y], z)\n",
    "                if(jarak < jarak_min):\n",
    "                    jarak_min = jarak\n",
    "                    nilai_bmu = np.array([x, y])\n",
    "        for x in range(kolom):\n",
    "            for y in range(baris):\n",
    "                if(Rumus_Eus(np.array([nilai_bmu[0], nilai_bmu[1]]), np.array([x, y])) <= 2):\n",
    "                    random_n[x][y] = random_n[x][y] + learningrate * np.exp(-(Rumus_Eus(np.array([x, y]), nilai_bmu)**2)\n",
    "                                                                        /(2*(radius**2))) * (z - random_n[x][y])"
   ]
  },
  {
   "cell_type": "code",
   "execution_count": 16,
   "metadata": {},
   "outputs": [
    {
     "data": {
      "image/png": "[encoded data removed]",
      "text/plain": [
       "<Figure size 432x288 with 1 Axes>"
      ]
     },
     "metadata": {},
     "output_type": "display_data"
    }
   ],
   "source": [
    "# plot data random neuron \n",
    "nouronupdate = np.reshape(random_n, (kolom * baris, 2)).T\n",
    "plt.plot(nouronupdate[0] / 10, nouronupdate[1]/10, 'md')\n",
    "plt.grid()"
   ]
  },
  {
   "cell_type": "code",
   "execution_count": 17,
   "metadata": {},
   "outputs": [
    {
     "data": {
      "image/png": "[encoded data removed]",
      "text/plain": [
       "<Figure size 432x288 with 1 Axes>"
      ]
     },
     "metadata": {},
     "output_type": "display_data"
    }
   ],
   "source": [
    "#plot data randm neuron asli\n",
    "nouronupdate = np.reshape(random_n, (kolom * baris, 2)).T\n",
    "plt.plot(nouronupdate[0], nouronupdate[1], 'bs')\n",
    "plt.grid()"
   ]
  },
  {
   "cell_type": "code",
   "execution_count": 18,
   "metadata": {},
   "outputs": [],
   "source": [
    "# Clustering\n",
    "nilaiclus = []\n",
    "for i in Data:\n",
    "    # Find the closest vector\n",
    "    nilai_bmu = np.array([0, 0])\n",
    "    jarak_min = Rumus_Eus(random_n[0][0], i)\n",
    "    for x in range(kolom):\n",
    "        for y in range(baris):\n",
    "            jarak = Rumus_Eus(random_n[x][y], i)\n",
    "            if(jarak < jarak_min):\n",
    "                jarak_min = jarak\n",
    "                nilai_bmu = np.array([x, y])\n",
    "    nilaiclus.append([i, nilai_bmu[0]+nilai_bmu[1]*kolom])"
   ]
  },
  {
   "cell_type": "code",
   "execution_count": 19,
   "metadata": {},
   "outputs": [
    {
     "data": {
      "image/png": "[encoded data removed]",
      "text/plain": [
       "<Figure size 432x288 with 1 Axes>"
      ]
     },
     "metadata": {},
     "output_type": "display_data"
    }
   ],
   "source": [
    "# Plot the cluster\n",
    "def show(nilaiclus, random_n, kolom, baris):\n",
    "    cl = np.zeros(kolom*baris)\n",
    "    i=1\n",
    "    for v in np.reshape(random_n, (kolom*baris, 2)):\n",
    "        plt.text(v[0], v[1], i, bbox={'facecolor':'red','alpha':0.5, 'pad':3})\n",
    "        i+=1\n",
    "    for p in nilaiclus:\n",
    "        cl[p[1]] += 1\n",
    "        if(p[1] == 0):\n",
    "            plt.plot(p[0][0], p[0][1], 'g*')\n",
    "        elif(p[1] == 1):\n",
    "            plt.plot(p[0][0], p[0][1], 'g>')\n",
    "        elif(p[1] == 2):\n",
    "            plt.plot(p[0][0], p[0][1], 'cs')\n",
    "        elif(p[1] == 3):\n",
    "            plt.plot(p[0][0], p[0][1], 'b*')\n",
    "        elif(p[1] == 4):\n",
    "            plt.plot(p[0][0], p[0][1], 'rv')\n",
    "        elif(p[1] == 5):\n",
    "            plt.plot(p[0][0], p[0][1], 'ks')\n",
    "        elif(p[1] == 6):\n",
    "            plt.plot(p[0][0], p[0][1], 'y+')\n",
    "        elif(p[1] == 7):\n",
    "            plt.plot(p[0][0], p[0][1], 'mo')\n",
    "        elif(p[1] == 8):\n",
    "            plt.plot(p[0][0], p[0][1], 'yv')\n",
    "        elif(p[1] == 9):\n",
    "            plt.plot(p[0][0], p[0][1], 'm*')\n",
    "        elif(p[1] == 10):\n",
    "            plt.plot(p[0][0], p[0][1], 'c+')\n",
    "        elif(p[1] == 11):\n",
    "            plt.plot(p[0][0], p[0][1], 'gs')\n",
    "        elif(p[1] == 12):\n",
    "            plt.plot(p[0][0], p[0][1], 'k<')\n",
    "        elif(p[1] == 13):\n",
    "            plt.plot(p[0][0], p[0][1], 'r>')\n",
    "        elif(p[1] == 14):\n",
    "            plt.plot(p[0][0], p[0][1], 'm+')\n",
    "        else:\n",
    "            plt.plot(p[0][0], p[0][1], 'b*')\n",
    "show(nilaiclus, random_n, kolom, baris)\n",
    "plt.grid()\n"
   ]
  },
  {
   "cell_type": "code",
   "execution_count": null,
   "metadata": {},
   "outputs": [],
   "source": []
  },
  {
   "cell_type": "code",
   "execution_count": null,
   "metadata": {},
   "outputs": [],
   "source": []
  },
  {
   "cell_type": "code",
   "execution_count": null,
   "metadata": {},
   "outputs": [],
   "source": []
  },
  {
   "cell_type": "code",
   "execution_count": null,
   "metadata": {},
   "outputs": [],
   "source": []
  },
  {
   "cell_type": "code",
   "execution_count": null,
   "metadata": {},
   "outputs": [],
   "source": []
  },
  {
   "cell_type": "code",
   "execution_count": null,
   "metadata": {},
   "outputs": [],
   "source": []
  },
  {
   "cell_type": "code",
   "execution_count": null,
   "metadata": {},
   "outputs": [],
   "source": []
  }
 ],
 "metadata": {
  "kernelspec": {
   "display_name": "Python 3",
   "language": "python",
   "name": "python3"
  },
  "language_info": {
   "codemirror_mode": {
    "name": "ipython",
    "version": 3
   },
   "file_extension": ".py",
   "mimetype": "text/x-python",
   "name": "python",
   "nbconvert_exporter": "python",
   "pygments_lexer": "ipython3",
   "version": "3.6.5"
  }
 },
 "nbformat": 4,
 "nbformat_minor": 2
}
